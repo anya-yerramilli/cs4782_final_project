{
 "cells": [
  {
   "cell_type": "code",
   "execution_count": null,
   "metadata": {},
   "outputs": [],
   "source": [
    "from models import SimpleShot  # make sure models.py is in the same directory or in PYTHONPATH\n",
    "from data_collector import get_datasets  # same for data_collector.py\n",
    "import torch\n",
    "from torch.utils.data import DataLoader\n",
    "import torch.nn as nn\n",
    "import torch.optim as optim\n",
    "import numpy as np\n",
    "from tqdm import tqdm\n",
    "import random\n",
    "import copy\n",
    "\n",
    "from train_eval import train, evaluate_few_shot"
   ]
  },
  {
   "cell_type": "code",
   "execution_count": null,
   "metadata": {},
   "outputs": [],
   "source": [
    "# Autoreload\n",
    "%load_ext autoreload\n",
    "%aimport train_eval\n",
    "%autoreload 1\n",
    "import train_eval"
   ]
  },
  {
   "cell_type": "code",
   "execution_count": null,
   "metadata": {},
   "outputs": [],
   "source": [
    "train_dataset, val_dataset, test_dataset = get_datasets()\n",
    "print(\"Datasets loaded.\")"
   ]
  },
  {
   "cell_type": "code",
   "execution_count": null,
   "metadata": {},
   "outputs": [],
   "source": [
    "train_loader = DataLoader(train_dataset, batch_size=256, shuffle=True, num_workers=0)\n",
    "val_loader = DataLoader(val_dataset, batch_size=256, shuffle=False, num_workers=0)\n",
    "test_loader = DataLoader(test_dataset, batch_size=256, shuffle=False, num_workers=0)\n",
    "print(\"DataLoaders ready.\")"
   ]
  },
  {
   "cell_type": "code",
   "execution_count": null,
   "metadata": {},
   "outputs": [],
   "source": [
    "device = torch.device(\"cuda\" if torch.cuda.is_available() else \"cpu\")\n",
    "print(device)\n",
    "\n",
    "model = SimpleShot(input_dim=84, num_classes=64)\n",
    "model = model.to(device)\n",
    "print(\"Model initialized.\")"
   ]
  },
  {
   "cell_type": "code",
   "execution_count": null,
   "metadata": {},
   "outputs": [],
   "source": [
    "model = train(model, train_loader, val_loader, epochs=90, lr=0.1, device=device)"
   ]
  },
  {
   "cell_type": "code",
   "execution_count": null,
   "metadata": {},
   "outputs": [],
   "source": [
    "for transform in [\"UN\", \"L2N\", \"CL2N\"]:\n",
    "    print(f\"\\nFeature transformation: {transform}\")\n",
    "\n",
    "    one_shot_acc, ci95 = evaluate_few_shot(\n",
    "        model,\n",
    "        test_loader,\n",
    "        n_way=5,\n",
    "        k_shot=1,\n",
    "        n_tasks=10000,\n",
    "        feature_transform=transform,\n",
    "        device=device,\n",
    "    )\n",
    "    print(f\"5-way 1-shot accuracy: {one_shot_acc:.2f}% ± {ci95:.2f}%\")\n",
    "\n",
    "    five_shot_acc, ci95 = evaluate_few_shot(\n",
    "        model,\n",
    "        test_loader,\n",
    "        n_way=5,\n",
    "        k_shot=5,\n",
    "        n_tasks=10000,\n",
    "        feature_transform=transform,\n",
    "        device=device,\n",
    "    )\n",
    "    print(f\"5-way 5-shot accuracy: {five_shot_acc:.2f}% ± {ci95:.2f}%\")"
   ]
  }
 ],
 "metadata": {
  "kernelspec": {
   "display_name": "simpleshot",
   "language": "python",
   "name": "python3"
  },
  "language_info": {
   "codemirror_mode": {
    "name": "ipython",
    "version": 3
   },
   "file_extension": ".py",
   "mimetype": "text/x-python",
   "name": "python",
   "nbconvert_exporter": "python",
   "pygments_lexer": "ipython3",
   "version": "3.9.21"
  }
 },
 "nbformat": 4,
 "nbformat_minor": 2
}
