{
 "cells": [
  {
   "cell_type": "markdown",
   "metadata": {
    "id": "zhI5IvTeX9cd"
   },
   "source": [
    "# SimpleShot Testing Notebook for Google Colab"
   ]
  },
  {
   "cell_type": "code",
   "execution_count": null,
   "metadata": {
    "colab": {
     "base_uri": "https://localhost:8080/"
    },
    "executionInfo": {
     "elapsed": 640,
     "status": "ok",
     "timestamp": 1745969854272,
     "user": {
      "displayName": "Kevin Chen",
      "userId": "11228705269625252176"
     },
     "user_tz": 240
    },
    "id": "IWjliUGrlvmb",
    "outputId": "a0e449c1-ab3e-4b6b-a0ca-e23d73b3ec41"
   },
   "outputs": [],
   "source": [
    "# Mount drive\n",
    "from google.colab import drive\n",
    "import sys\n",
    "drive.mount('/content/gdrive')\n",
    "\n",
    "# NOTE: Make sure your path does NOT include a '/' at the end!\n",
    "base_dir = \"/content/gdrive/MyDrive/[input base directory here]/code\"\n",
    "sys.path.append(base_dir)"
   ]
  },
  {
   "cell_type": "code",
   "execution_count": null,
   "metadata": {
    "colab": {
     "base_uri": "https://localhost:8080/"
    },
    "executionInfo": {
     "elapsed": 8378,
     "status": "ok",
     "timestamp": 1745969862898,
     "user": {
      "displayName": "Kevin Chen",
      "userId": "11228705269625252176"
     },
     "user_tz": 240
    },
    "id": "BdTtnUlBmMcI",
    "outputId": "0fc9710f-67ec-4135-b571-bf13eaa650d9"
   },
   "outputs": [],
   "source": [
    "# !pip install Pyrebase4\n",
    "# !pip install learn2learn\n",
    "\n",
    "!apt-get update && apt-get install -y build-essential libffi-dev python3-dev\n",
    "!git clone https://github.com/learnables/learn2learn.git\n",
    "%cd learn2learn\n",
    "!pip install -e . --no-deps"
   ]
  },
  {
   "cell_type": "code",
   "execution_count": null,
   "metadata": {
    "executionInfo": {
     "elapsed": 19069,
     "status": "ok",
     "timestamp": 1745965017502,
     "user": {
      "displayName": "Kevin Chen",
      "userId": "11228705269625252176"
     },
     "user_tz": 240
    },
    "id": "b-6PeAIflY2M"
   },
   "outputs": [],
   "source": [
    "from models import SimpleShot  # make sure models.py is in the same directory or in PYTHONPATH\n",
    "from data_collector import get_datasets  # same for data_collector.py\n",
    "import torch\n",
    "from torch.utils.data import DataLoader\n",
    "import torch.nn as nn\n",
    "import torch.optim as optim\n",
    "import numpy as np\n",
    "from tqdm import tqdm\n",
    "import random\n",
    "import copy\n",
    "\n",
    "from train_eval import train, evaluate_few_shot"
   ]
  },
  {
   "cell_type": "code",
   "execution_count": null,
   "metadata": {
    "executionInfo": {
     "elapsed": 8,
     "status": "ok",
     "timestamp": 1745965017509,
     "user": {
      "displayName": "Kevin Chen",
      "userId": "11228705269625252176"
     },
     "user_tz": 240
    },
    "id": "QPd-CJHVQk8t"
   },
   "outputs": [],
   "source": [
    "# Autoreload\n",
    "%load_ext autoreload\n",
    "%aimport train_eval\n",
    "%autoreload 1\n",
    "import train_eval"
   ]
  },
  {
   "cell_type": "code",
   "execution_count": null,
   "metadata": {
    "colab": {
     "base_uri": "https://localhost:8080/"
    },
    "executionInfo": {
     "elapsed": 43467,
     "status": "ok",
     "timestamp": 1745965060976,
     "user": {
      "displayName": "Kevin Chen",
      "userId": "11228705269625252176"
     },
     "user_tz": 240
    },
    "id": "euZO9uzIlY2O",
    "outputId": "c5052ead-8b36-4251-d02b-74a4f47d9195"
   },
   "outputs": [],
   "source": [
    "train_dataset, val_dataset, test_dataset = get_datasets()\n",
    "print(\"Datasets loaded.\")"
   ]
  },
  {
   "cell_type": "code",
   "execution_count": null,
   "metadata": {
    "colab": {
     "base_uri": "https://localhost:8080/"
    },
    "executionInfo": {
     "elapsed": 3,
     "status": "ok",
     "timestamp": 1745965060981,
     "user": {
      "displayName": "Kevin Chen",
      "userId": "11228705269625252176"
     },
     "user_tz": 240
    },
    "id": "8VO_2GGglY2O",
    "outputId": "2b8a4581-58b8-466f-9a0a-b6a33ed2f5df"
   },
   "outputs": [],
   "source": [
    "train_loader = DataLoader(train_dataset, batch_size=256, shuffle=True, num_workers=0)\n",
    "val_loader = DataLoader(val_dataset, batch_size=256, shuffle=False, num_workers=0)\n",
    "test_loader = DataLoader(test_dataset, batch_size=256, shuffle=False, num_workers=0)\n",
    "print(\"DataLoaders ready.\")"
   ]
  },
  {
   "cell_type": "code",
   "execution_count": null,
   "metadata": {
    "colab": {
     "base_uri": "https://localhost:8080/"
    },
    "executionInfo": {
     "elapsed": 476,
     "status": "ok",
     "timestamp": 1745965062818,
     "user": {
      "displayName": "Kevin Chen",
      "userId": "11228705269625252176"
     },
     "user_tz": 240
    },
    "id": "yYoMwU5hlY2O",
    "outputId": "d9c409a6-7f0e-42cf-cd8b-236c5870640b"
   },
   "outputs": [],
   "source": [
    "device = torch.device(\"cuda\" if torch.cuda.is_available() else \"cpu\")\n",
    "print(device)\n",
    "\n",
    "# change network to whatever you want\n",
    "model = SimpleShot(input_dim=84, num_classes=64, network=\"Conv-4\")\n",
    "model = model.to(device)\n",
    "print(\"Model initialized.\")"
   ]
  },
  {
   "cell_type": "code",
   "execution_count": null,
   "metadata": {
    "colab": {
     "base_uri": "https://localhost:8080/"
    },
    "executionInfo": {
     "elapsed": 2628588,
     "status": "ok",
     "timestamp": 1745967692695,
     "user": {
      "displayName": "Kevin Chen",
      "userId": "11228705269625252176"
     },
     "user_tz": 240
    },
    "id": "gHi8tH9slY2O",
    "outputId": "b68b1d0f-aefe-4805-e8dd-3f4abc045abb"
   },
   "outputs": [],
   "source": [
    "model = train(model, train_loader, val_loader, epochs=90, lr=0.1, device=device)\n",
    "# save model\n",
    "torch.save(model, '/content/gdrive/MyDrive/cs4782-final/code/models/model-conv4.pth')  # <---- check this is the right name!!!\n",
    "print(\"Model saved successfully!\")"
   ]
  },
  {
   "cell_type": "code",
   "execution_count": null,
   "metadata": {
    "id": "dYvzJPV5T19O"
   },
   "outputs": [],
   "source": [
    "# save/load model if you want\n",
    "\n",
    "# # save model\n",
    "# torch.save(model, '/content/gdrive/MyDrive/[base directory]/model.pth')\n",
    "\n",
    "# # load model\n",
    "# model = torch.load('/content/gdrive/MyDrive/[base directory]/model.pth', weights_only=False)\n",
    "# model.eval()"
   ]
  },
  {
   "cell_type": "code",
   "execution_count": null,
   "metadata": {
    "colab": {
     "base_uri": "https://localhost:8080/"
    },
    "executionInfo": {
     "elapsed": 792939,
     "status": "ok",
     "timestamp": 1745970665337,
     "user": {
      "displayName": "Kevin Chen",
      "userId": "11228705269625252176"
     },
     "user_tz": 240
    },
    "id": "9aGzfmjzlY2P",
    "outputId": "5483921c-9fa7-4017-d60c-c495f80a1d7e"
   },
   "outputs": [],
   "source": [
    "for transform in [\"UN\", \"L2N\", \"CL2N\"]:\n",
    "    print(f\"\\nFeature transformation: {transform}\")\n",
    "\n",
    "    one_shot_acc, ci95 = evaluate_few_shot(\n",
    "        model,\n",
    "        test_loader,\n",
    "        n_way=5,\n",
    "        k_shot=1,\n",
    "        n_tasks=10000,\n",
    "        feature_transform=transform,\n",
    "        device=device,\n",
    "    )\n",
    "    print(f\"5-way 1-shot accuracy: {one_shot_acc:.2f}% ± {ci95:.2f}%\")\n",
    "\n",
    "    five_shot_acc, ci95 = evaluate_few_shot(\n",
    "        model,\n",
    "        test_loader,\n",
    "        n_way=5,\n",
    "        k_shot=5,\n",
    "        n_tasks=10000,\n",
    "        feature_transform=transform,\n",
    "        device=device,\n",
    "    )\n",
    "    print(f\"5-way 5-shot accuracy: {five_shot_acc:.2f}% ± {ci95:.2f}%\")"
   ]
  }
 ],
 "metadata": {
  "accelerator": "GPU",
  "colab": {
   "gpuType": "T4",
   "provenance": []
  },
  "kernelspec": {
   "display_name": "simpleshot",
   "language": "python",
   "name": "python3"
  },
  "language_info": {
   "codemirror_mode": {
    "name": "ipython",
    "version": 3
   },
   "file_extension": ".py",
   "mimetype": "text/x-python",
   "name": "python",
   "nbconvert_exporter": "python",
   "pygments_lexer": "ipython3",
   "version": "3.9.21"
  }
 },
 "nbformat": 4,
 "nbformat_minor": 0
}
