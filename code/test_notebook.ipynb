{
 "cells": [
  {
   "cell_type": "code",
   "execution_count": 1,
   "metadata": {},
   "outputs": [],
   "source": [
    "from models import SimpleShot  # make sure models.py is in the same directory or in PYTHONPATH\n",
    "from data_collector import get_datasets  # same for data_collector.py\n",
    "import torch\n",
    "from torch.utils.data import DataLoader\n",
    "import torch.nn as nn\n",
    "import torch.optim as optim\n",
    "import numpy as np\n",
    "from tqdm import tqdm\n",
    "import random\n",
    "import copy\n",
    "\n",
    "from train_eval import train, evaluate_few_shot"
   ]
  },
  {
   "cell_type": "code",
   "execution_count": 2,
   "metadata": {},
   "outputs": [
    {
     "name": "stdout",
     "output_type": "stream",
     "text": [
      "Datasets loaded.\n"
     ]
    }
   ],
   "source": [
    "train_dataset, val_dataset, test_dataset = get_datasets()\n",
    "print(\"Datasets loaded.\")\n"
   ]
  },
  {
   "cell_type": "code",
   "execution_count": 3,
   "metadata": {},
   "outputs": [
    {
     "name": "stdout",
     "output_type": "stream",
     "text": [
      "DataLoaders ready.\n"
     ]
    }
   ],
   "source": [
    "train_loader = DataLoader(train_dataset, batch_size=256, shuffle=True, num_workers=0)\n",
    "val_loader = DataLoader(val_dataset, batch_size=256, shuffle=False, num_workers=0)\n",
    "test_loader = DataLoader(test_dataset, batch_size=256, shuffle=False, num_workers=0)\n",
    "print(\"DataLoaders ready.\")\n"
   ]
  },
  {
   "cell_type": "code",
   "execution_count": 4,
   "metadata": {},
   "outputs": [
    {
     "name": "stdout",
     "output_type": "stream",
     "text": [
      "Model initialized.\n"
     ]
    }
   ],
   "source": [
    "device = torch.device(\"cuda\" if torch.cuda.is_available() else \"cpu\")\n",
    "\n",
    "model = SimpleShot(\n",
    "    input_dim=84, hidden_dim=64, num_classes=64, l2norm=False, support=None\n",
    ")\n",
    "model = model.to(device)\n",
    "print(\"Model initialized.\")\n"
   ]
  },
  {
   "cell_type": "code",
   "execution_count": null,
   "metadata": {},
   "outputs": [],
   "source": [
    "model = train(model, train_loader, val_dataset, epochs=90, lr=0.1, device=device)\n"
   ]
  },
  {
   "cell_type": "code",
   "execution_count": null,
   "metadata": {},
   "outputs": [],
   "source": [
    "for transform in [\"UN\", \"L2N\", \"CL2N\"]:\n",
    "    print(f\"\\nFeature transformation: {transform}\")\n",
    "\n",
    "    one_shot_acc = evaluate_few_shot(\n",
    "        model,\n",
    "        test_loader,\n",
    "        n_way=5,\n",
    "        k_shot=1,\n",
    "        n_tasks=100,\n",
    "        feature_transform=transform,\n",
    "        device=device,\n",
    "    )\n",
    "    print(f\"5-way 1-shot accuracy: {one_shot_acc:.2f}%\")\n",
    "\n",
    "    five_shot_acc = evaluate_few_shot(\n",
    "        model,\n",
    "        test_loader,\n",
    "        n_way=5,\n",
    "        k_shot=5,\n",
    "        n_tasks=100,\n",
    "        feature_transform=transform,\n",
    "        device=device,\n",
    "    )\n",
    "    print(f\"5-way 5-shot accuracy: {five_shot_acc:.2f}%\")\n"
   ]
  }
 ],
 "metadata": {
  "kernelspec": {
   "display_name": ".venv",
   "language": "python",
   "name": "python3"
  },
  "language_info": {
   "codemirror_mode": {
    "name": "ipython",
    "version": 3
   },
   "file_extension": ".py",
   "mimetype": "text/x-python",
   "name": "python",
   "nbconvert_exporter": "python",
   "pygments_lexer": "ipython3",
   "version": "3.10.17"
  }
 },
 "nbformat": 4,
 "nbformat_minor": 2
}
